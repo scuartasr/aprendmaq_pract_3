{
  "cells": [
    {
      "cell_type": "markdown",
      "metadata": {
        "id": "eMdUYL44oC7T"
      },
      "source": [
        "# <font color=\"Turquoise\"><b>Práctica IV: Segmentación de de imagen</b></font>\n",
        "\n",
        "Elaborado con el apoyo de:\n",
        "Luis Fernando Becerra, BEDA Aprendizaje de Máquinas 2024-1S - 2025-1S\n",
        "Andres Esteban Marin Manco, BEDA Aprendizaje de Máquinas 2025-1S\n",
        "\n",
        "# <font color=\"LightPink\"><b>Aplicación Clustering: Segmentación de imagen</b></font>\n",
        "\n",
        "<p align=\"center\">\n",
        "  <img src=\"https://miro.medium.com/v2/resize:fit:1400/1*8GEXSMN6FyVNBWNBXVAA7A.png\n",
        "\" width=\"500\"/>\n",
        "</p>\n",
        "\n",
        "<br>\n",
        "\n",
        "En esta última parte de la Práctica 3, aplicaremos los algoritmos de `DBSCAN` y `Spectral Clustering` para realizar una **segmentación sobre una imagen RGB**.\n",
        "\n",
        "El objetivo es analizar:\n",
        "\n",
        "- La **selección de parámetros** adecuados para cada algoritmo.\n",
        "- El **costo computacional** asociado a su ejecución, especialmente en contextos de alta dimensionalidad como las imágenes.\n",
        "\n",
        "Para esta actividad, utilizaremos la imagen `imgflowers.png` como caso de estudio.\n"
      ]
    },
    {
      "cell_type": "code",
      "execution_count": null,
      "metadata": {
        "id": "9p2gNpxqOkgV"
      },
      "outputs": [],
      "source": [
        "#Importamos las librerias\n",
        "import pandas as pd\n",
        "import numpy as np\n",
        "import matplotlib.pyplot as plt"
      ]
    },
    {
      "cell_type": "code",
      "execution_count": null,
      "metadata": {
        "id": "JXUdPzYhPAFC"
      },
      "outputs": [],
      "source": [
        "#Leemos la imagen RGB\n"
      ]
    },
    {
      "cell_type": "code",
      "execution_count": null,
      "metadata": {
        "id": "LdANH2tmPPO0"
      },
      "outputs": [],
      "source": [
        "#Revisemos las dimensiones de los datos\n",
        "img.shape"
      ]
    },
    {
      "cell_type": "markdown",
      "metadata": {
        "id": "exLnSQraoneU"
      },
      "source": [
        "Una imagen a color o **RGB**, como la capturada por nuestros celulares o una cámara convencional, cuenta con **tres canales** (capas o bandas) que capturan respectivamente la información de color rojo <font color=\"red\"><b>(RED)</b></font>, verde <font color=\"green\"><b>(GREEN)</b></font> y azul <font color=\"blue\"><b>(BLUE)</b></font>. A partir de la composición de estos colores se forma una imagen a color.\n",
        "\n",
        "<br>\n",
        "\n",
        "**¿Por qué estos canales?**  \n",
        "Las cámaras convencionales están inspiradas en el **ojo humano**, el cual funciona con base en filtros en estas longitudes de onda.\n",
        "\n",
        "Dependiendo del formato, la imagen puede contener más información. En este caso, el formato **PNG** tiene un **cuarto canal** correspondiente a valores de referencia para el color negro. **Vamos a trabajar solo con los primeros 3 canales.**\n",
        "\n",
        "<br>\n",
        "\n",
        "Adicionalmente, como estamos trabajando con la versión gratuita de Colab, **no tenemos suficiente memoria RAM** que requieren los métodos `DBSCAN` y `Spectral Clustering`. Por lo anterior, vamos a tomar **una parte de la imagen correspondiente a 100x100 píxeles.**"
      ]
    },
    {
      "cell_type": "code",
      "execution_count": null,
      "metadata": {
        "id": "jgOn3xeer9oL"
      },
      "outputs": [],
      "source": [
        "def extraer_seccion_random(imagen, alto=100, ancho=100):\n",
        "    h, w = imagen.shape[:2]\n",
        "\n",
        "    y = np.random.randint(0, h - alto + 1)\n",
        "    x = np.random.randint(0, w - ancho + 1)\n",
        "\n",
        "    return imagen[y:y+alto, x:x+ancho, 0:3]"
      ]
    },
    {
      "cell_type": "code",
      "execution_count": null,
      "metadata": {
        "id": "7UPopjomse2y"
      },
      "outputs": [],
      "source": [
        "#Visualización de la seccion de imagen\n",
        "subimg = extraer_seccion_random(img)\n",
        "plt.imshow(subimg)\n",
        "plt.title(\"Sección aleatoria 100x100\")\n",
        "plt.show()"
      ]
    },
    {
      "cell_type": "markdown",
      "metadata": {
        "id": "AX_N9Embtceq"
      },
      "source": [
        "Como podemos observar, la imagen está compuesta por **flores y hojas**. Esperaríamos que un proceso de **segmentación** sea, al menos, capaz de **separar las flores de diferentes colores** y las hojas.\n",
        "\n",
        "Esto quiere decir que podríamos obtener **al menos 3 clusters** bien diferenciados en la imagen:\n",
        "1. Hojas o fondo verde\n",
        "2. Flores de un primer color\n",
        "3. Flores de un segundo color"
      ]
    },
    {
      "cell_type": "markdown",
      "metadata": {
        "id": "WsMryW8ltpnP"
      },
      "source": [
        "Ahora, es necesario organizar los datos de tal forma que podamos emplear los métodos de agrupamiento.\n",
        "\n",
        "Como recordarán, estos métodos requieren una **matriz de dos dimensiones**, donde:\n",
        "\n",
        "- Las **filas** corresponden a las **muestras**.\n",
        "- Las **columnas** corresponden a las **características**.\n",
        "\n",
        "En el caso de una imagen, nuestras muestras corresponden a los **píxeles**, y las columnas a sus respectivos **valores RGB** (Rojo, Verde y Azul).  \n",
        "Es decir, cada píxel se representa como un vector de tres dimensiones: `(R, G, B)`.\n"
      ]
    },
    {
      "cell_type": "code",
      "execution_count": null,
      "metadata": {
        "id": "Ee6ZazrndcOW"
      },
      "outputs": [],
      "source": [
        "#Paso 1: Organizamos la matriz de la forma\n",
        "# 3 x numero de pixeles\n"
      ]
    },
    {
      "cell_type": "code",
      "execution_count": null,
      "metadata": {
        "id": "fIMgIyF4dd3i"
      },
      "outputs": [],
      "source": [
        "#Paso 2: trasponemos obtener la matriz de datos\n",
        "data = data.transpose(1,0)\n",
        "data.shape"
      ]
    },
    {
      "cell_type": "markdown",
      "metadata": {
        "id": "eFfC0SGhucws"
      },
      "source": [
        "Antes de iniciar el agrupamiento vamos a escalar la imagen de 0 a 1."
      ]
    },
    {
      "cell_type": "code",
      "execution_count": null,
      "metadata": {
        "id": "gFlrDmMDwe2Q"
      },
      "outputs": [],
      "source": [
        "#Importamos MaxAbsScaler\n",
        "\n",
        "#Escalamos la imagen de 0 a 1\n"
      ]
    },
    {
      "cell_type": "markdown",
      "metadata": {
        "id": "DcK5SIX_uU7i"
      },
      "source": [
        "## <font color=\"LightPink\"><b>DBSCAN</b></font>\n",
        "\n",
        "Vamos a aplicar inicialmente el metodo `DBSCAN` y explorar un poco la selección de los parametros."
      ]
    },
    {
      "cell_type": "code",
      "execution_count": null,
      "metadata": {
        "id": "z0Ug_X7RZ93F"
      },
      "outputs": [],
      "source": [
        "#Importamos\n"
      ]
    },
    {
      "cell_type": "code",
      "execution_count": null,
      "metadata": {
        "id": "6K-JTJHAUgqb"
      },
      "outputs": [],
      "source": [
        "#Configuramos los parametros\n",
        "\n",
        "#Entrenamos el modelo\n",
        "\n",
        "#Obtenemos las etiquetas de pertenencia\n"
      ]
    },
    {
      "cell_type": "markdown",
      "metadata": {
        "id": "OfxNO3pquxC5"
      },
      "source": [
        "Nota: el metodo de cluster nos entregara la pertenencia de cada pixel a un cluster. Estas etiquetas serán un vector de 1 dimension correspondiente al número de pixeles."
      ]
    },
    {
      "cell_type": "code",
      "execution_count": null,
      "metadata": {
        "id": "VMKBwXy3VNOc"
      },
      "outputs": [],
      "source": [
        "#Revisar tamaño de etiquetas\n"
      ]
    },
    {
      "cell_type": "markdown",
      "metadata": {
        "id": "qcE4jMthu9Wd"
      },
      "source": [
        "Recordemos que DBSCAN no requiere el número de clusters, estos son calculados automaticamente a partir del los parametros seleccionados."
      ]
    },
    {
      "cell_type": "code",
      "execution_count": null,
      "metadata": {
        "id": "n20ixj_SV-5n"
      },
      "outputs": [],
      "source": [
        "#Revisar numero de clusters\n",
        "\n",
        "#-1: Corresponde a los puntos de ruido"
      ]
    },
    {
      "cell_type": "markdown",
      "metadata": {
        "id": "sesyyrX4vMKr"
      },
      "source": [
        "Para graficar la segmentación, debemos reconstruir la imagen de 100x100."
      ]
    },
    {
      "cell_type": "code",
      "execution_count": null,
      "metadata": {
        "id": "ZwyArfWRvT62"
      },
      "outputs": [],
      "source": [
        "fig, axs = plt.subplots(1, 2, figsize=(6, 3))\n",
        "\n",
        "#imagen original\n",
        "axs[0].imshow(subimg)  #subimg: sección original 100x100x3\n",
        "axs[0].set_title(\"Imagen original\")\n",
        "axs[0].axis('off')\n",
        "\n",
        "#imagen segmentada por clustering\n",
        "clusters_img = y.reshape(100, 100)  #y: etiquetas del clustering\n",
        "axs[1].imshow(clusters_img)\n",
        "axs[1].set_title(\"Imagen segmentada DBSCAN\")\n",
        "axs[1].axis('off')\n",
        "\n",
        "plt.tight_layout()\n",
        "plt.show()"
      ]
    },
    {
      "cell_type": "markdown",
      "metadata": {
        "id": "sS7QvagFvUK6"
      },
      "source": [
        "Exploremos con diferentes valores de eps y min_samples."
      ]
    },
    {
      "cell_type": "markdown",
      "metadata": {
        "id": "y9FQw9G1vdnm"
      },
      "source": [
        "## <font color=\"LightPink\"><b>Spectral Clustering</b></font>\n",
        "\n",
        "Con `DBSCAN` notamos:\n",
        "\n",
        "1. Una **alta dificultad para sintonizar los parámetros**.\n",
        "2. El método es **muy sensible al valor de `eps`**.\n",
        "3. **No se logra con facilidad segmentar los objetos** principales de la imagen.\n",
        "4. Sin embargo, es un método **rápido en tiempo de cómputo**.\n",
        "\n",
        "Ahora vamos a evaluar el comportamiento de `Spectral Clustering` sobre el **mismo conjunto de datos**, para comparar su capacidad de segmentación visual y su costo computacional.\n"
      ]
    },
    {
      "cell_type": "code",
      "execution_count": null,
      "metadata": {
        "id": "VCgYpVsoXNaa"
      },
      "outputs": [],
      "source": [
        "#Importamos\n"
      ]
    },
    {
      "cell_type": "code",
      "execution_count": null,
      "metadata": {
        "id": "gMhxyDzYXSzz"
      },
      "outputs": [],
      "source": [
        "#Configuramos los parametros\n",
        "\n",
        "#Entrenamos el modelo\n",
        "\n",
        "#Obtenemos las etiquetas de pertenencia\n"
      ]
    },
    {
      "cell_type": "code",
      "execution_count": null,
      "metadata": {
        "id": "G2gsnMFmwA1z"
      },
      "outputs": [],
      "source": [
        "fig, axs = plt.subplots(1, 2, figsize=(6, 3))\n",
        "\n",
        "#imagen original\n",
        "axs[0].imshow(subimg)  #subimg: sección original 100x100x3\n",
        "axs[0].set_title(\"Imagen original\")\n",
        "axs[0].axis('off')\n",
        "\n",
        "#imagen segmentada por clustering\n",
        "clusters_imgSC = y_SC.reshape(100, 100)  #y: etiquetas del clustering\n",
        "axs[1].imshow(clusters_imgSC)\n",
        "axs[1].set_title(\"Imagen segmentada Spectral Clustering\")\n",
        "axs[1].axis('off')\n",
        "\n",
        "plt.tight_layout()\n",
        "plt.show()"
      ]
    },
    {
      "cell_type": "markdown",
      "metadata": {
        "id": "eI42_PLX8zKq"
      },
      "source": [
        "### <font color=\"LightPink\"><b>Cluster con color del centroide</b></font>\n",
        "\n",
        "Asignamos a cada píxel el **color promedio RGB** de su cluster, de modo que la imagen segmentada refleje los colores reales de cada grupo y no solo etiquetas numéricas.\n"
      ]
    },
    {
      "cell_type": "code",
      "execution_count": null,
      "metadata": {
        "cellView": "form",
        "id": "nKnq-y-j7ydT"
      },
      "outputs": [],
      "source": [
        "#@title Cluster con color del centroide: construir imagen con colores promedio por cluster\n",
        "\n",
        "#Inicializamos un array del mismo tamaño que I (pixeles RGB)\n",
        "img_SC = np.zeros_like(I)\n",
        "\n",
        "#Para cada etiqueta de cluster, calculamos el color promedio y lo asignamos a los píxeles correspondientes\n",
        "for label in np.unique(y_SC):\n",
        "    img_SC[y_SC == label] = I[y_SC == label].mean(axis=0)\n",
        "\n",
        "#Reconstruimos la imagen 2D de 100x100 con sus 3 canales RGB\n",
        "img_SC = img_SC.reshape(100, 100, 3)\n",
        "\n",
        "#Escalamos los valores a [0, 255] si están en el rango [0, 1], y convertimos a tipo uint8\n",
        "img_SC = (img_SC * 255).astype(np.uint8) if img_SC.max() <= 1.0 else img_SC.astype(np.uint8)\n",
        "\n",
        "#Mostrar resultados\n",
        "fig, axs = plt.subplots(1, 2, figsize=(6, 3))\n",
        "axs[0].imshow(subimg)\n",
        "axs[0].set_title(\"Imagen original\")\n",
        "axs[0].axis('off')\n",
        "\n",
        "axs[1].imshow(img_SC)\n",
        "axs[1].set_title(\"Segmentada SC (RGB centroides)\")\n",
        "axs[1].axis('off')\n",
        "\n",
        "plt.tight_layout()\n",
        "plt.show()"
      ]
    },
    {
      "cell_type": "markdown",
      "metadata": {
        "id": "FHDnxz91wBJU"
      },
      "source": [
        "Exploremos con diferentes numeros de clusters y valores de gamma."
      ]
    },
    {
      "cell_type": "markdown",
      "metadata": {
        "id": "fbwEe2-ewHPZ"
      },
      "source": [
        "Finalmente, comparemos de forma númerica los resultados obtenidos por DBSCAN y Spectral Clustering."
      ]
    },
    {
      "cell_type": "code",
      "execution_count": null,
      "metadata": {
        "id": "Toeu9nmpXpDM"
      },
      "outputs": [],
      "source": [
        "#Calcular silhouette_score\n",
        "from sklearn.metrics import silhouette_score\n",
        "\n",
        "print(\"Silhouette DBSCAN:\", silhouette_score(I, y))\n",
        "print(\"Silhouette Spectral Clustering:\", silhouette_score(I, y_SC))"
      ]
    }
  ],
  "metadata": {
    "colab": {
      "provenance": []
    },
    "kernelspec": {
      "display_name": "Python 3",
      "name": "python3"
    },
    "language_info": {
      "name": "python"
    }
  },
  "nbformat": 4,
  "nbformat_minor": 0
}