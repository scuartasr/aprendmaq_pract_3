{
  "nbformat": 4,
  "nbformat_minor": 0,
  "metadata": {
    "colab": {
      "provenance": []
    },
    "kernelspec": {
      "name": "python3",
      "display_name": "Python 3"
    },
    "language_info": {
      "name": "python"
    }
  },
  "cells": [
    {
      "cell_type": "markdown",
      "source": [
        "# <font color=\"Turquoise\"><b>Práctica 3: Segmentación de mercado</b></font>\n",
        "\n",
        "Elaborado con el apoyo de:\n",
        "Luis Fernando Becerra, BEDA Aprendizaje de Máquinas 2024-1S - 2025-1S\n",
        "Andres Esteban Marin Manco, BEDA Aprendizaje de Máquinas 2025-1S\n",
        "\n",
        "# <font color=\"LightPink\"><b>Aplicación Clustering: Segmentación de mercado</b></font>\n",
        "\n",
        "En esta parte de la práctica aplicaremos lo aprendido sobre técnicas de agrupamiento para realizar un **análisis de segmentación de mercado**.\n",
        "\n",
        "Para ello, utilizaremos el archivo `customer.csv`. Este conjunto de datos ya fue **preprocesado previamente**, incluyendo:\n",
        "\n",
        "- Eliminación de **valores nulos** y algunas **anomalías** detectadas.\n",
        "- Conversión de **variables categóricas** a valores **enteros codificados**."
      ],
      "metadata": {
        "id": "FvJ0xAggQNAH"
      }
    },
    {
      "cell_type": "code",
      "execution_count": null,
      "metadata": {
        "id": "fH-vdcKmQFqE"
      },
      "outputs": [],
      "source": [
        "#Importamos las librerias\n",
        "#Visualización de datos\n",
        "import pandas as pd\n",
        "import numpy as np\n",
        "import matplotlib.pyplot as plt\n",
        "import seaborn as sns"
      ]
    },
    {
      "cell_type": "code",
      "source": [
        "#Cargamos el archivo\n"
      ],
      "metadata": {
        "id": "UWHTbeeoAlbj"
      },
      "execution_count": null,
      "outputs": []
    },
    {
      "cell_type": "code",
      "source": [
        "#Revisamos los tipos de datos\n"
      ],
      "metadata": {
        "id": "sV6V7DL3AqCT"
      },
      "execution_count": null,
      "outputs": []
    },
    {
      "cell_type": "code",
      "source": [
        "#Revisamos los primeros 5 elementos\n"
      ],
      "metadata": {
        "id": "T2dEHeBjAu9D"
      },
      "execution_count": null,
      "outputs": []
    },
    {
      "cell_type": "markdown",
      "source": [
        "Para este proceso de segmentación de mercado, vamos a seguir los siguientes pasos:\n",
        "\n",
        "1. **Normalización de los datos**  \n",
        "   Es fundamental escalar las variables para que todas tengan el mismo peso en el proceso de agrupamiento.\n",
        "\n",
        "2. **Revisión de la correlación entre variables**  \n",
        "   Analizaremos si existen variables altamente correlacionadas, lo cual puede indicarnos que alguna dimensión podría ser eliminada sin pérdida de información relevante.\n",
        "\n",
        "3. **Aplicación inicial de K-Means**  \n",
        "   Utilizaremos el algoritmo `K-Means` como primer enfoque para realizar el análisis de los segmentos de mercado.\n"
      ],
      "metadata": {
        "id": "phGs9BsfQvHe"
      }
    },
    {
      "cell_type": "code",
      "source": [
        "#Importamos\n",
        "from sklearn.preprocessing import StandardScaler\n",
        "#Normalizamos\n"
      ],
      "metadata": {
        "id": "4nLP5A_PA5g2"
      },
      "execution_count": null,
      "outputs": []
    },
    {
      "cell_type": "code",
      "source": [
        "data.head()"
      ],
      "metadata": {
        "id": "aJq5duDzU5w7"
      },
      "execution_count": null,
      "outputs": []
    },
    {
      "cell_type": "code",
      "source": [
        "#Analizamos la correlacion de los datos con un mapa de calor\n",
        "corrmax = data.corr()\n",
        "plt.figure(figsize=(25,20))\n",
        "sns.heatmap(corrmax, annot=True, cmap = 'coolwarm', center=0)\n",
        "plt.show()"
      ],
      "metadata": {
        "id": "3aoEkYz8A00y"
      },
      "execution_count": null,
      "outputs": []
    },
    {
      "cell_type": "markdown",
      "source": [
        "# Kmeans"
      ],
      "metadata": {
        "id": "r7m9ZQSpSNxL"
      }
    },
    {
      "cell_type": "code",
      "source": [
        "#Importar Kmeans\n",
        "from sklearn.cluster import KMeans\n",
        "from sklearn.metrics import davies_bouldin_score, silhouette_score\n",
        "\n",
        "# arreglos para indices\n",
        "\n",
        "\n",
        "#clustering\n"
      ],
      "metadata": {
        "id": "gNz8NNuSCowA"
      },
      "execution_count": null,
      "outputs": []
    },
    {
      "cell_type": "code",
      "source": [
        "#Graficamos el resultado\n",
        "plt.figure(figsize=(15, 3.5))\n",
        "\n",
        "#Gráfico 1: Inercia\n",
        "plt.subplot(1, 3, 1)\n",
        "plt.plot(range(2, 16), inertias, 'b', marker='o')\n",
        "plt.title('Método del Codo')\n",
        "plt.xlabel('Número de Clusters (k)')\n",
        "plt.ylabel('Inercia')\n",
        "\n",
        "#Gráfico 2: Índice Davies-Bouldin\n",
        "plt.subplot(1, 3, 2)\n",
        "plt.plot(range(2, 16), db, 'r', marker='o')\n",
        "plt.title('Índice Davies-Bouldin')\n",
        "plt.xlabel('Número de Clusters (k)')\n",
        "plt.ylabel('Valor del índice')\n",
        "\n",
        "#Gráfico 3: Silueta\n",
        "plt.subplot(1, 3, 3)\n",
        "plt.plot(range(2, 16), silhouette, 'g', marker='o')\n",
        "plt.title('Índice de Silueta')\n",
        "plt.xlabel('Número de Clusters (k)')\n",
        "plt.ylabel('Score promedio')\n",
        "\n",
        "plt.tight_layout()\n",
        "plt.show()"
      ],
      "metadata": {
        "id": "tC0RMvcdbBqC"
      },
      "execution_count": null,
      "outputs": []
    },
    {
      "cell_type": "markdown",
      "source": [
        "### <font color=\"LightPink\"><b>Análisis de los índices de evaluación</b></font>\n",
        "\n",
        "A partir de los resultados graficados, podemos hacer las siguientes observaciones:\n",
        "\n",
        "1. **Método del Codo (Inercia)**  \n",
        "   Se observa una reducción considerable de la inercia hasta `k = 4`, donde empieza a aplanarse la curva. Esto sugiere que `k = 4` podría ser una buena elección para el número de clusters.\n",
        "\n",
        "2. **Índice Davies-Bouldin**  \n",
        "   Este índice busca minimizarse. El valor más bajo se presenta en `k = 2`, seguido de `k = 9`. Sin embargo, presenta bastante variabilidad, lo que indica que no hay una separación de clusters clara para todos los valores de `k`.\n",
        "\n",
        "3. **Índice de Silueta**  \n",
        "   El valor más alto aparece en `k = 2`, lo que sugiere una buena separación y cohesión en ese caso. No obstante, los valores bajan rápidamente a medida que aumenta `k`, indicando una menor calidad de los agrupamientos para valores más altos.\n",
        "\n",
        "### <b>Conclusión número de clusters:</b>  \n",
        "Aunque el índice de silueta y Davies-Bouldin favorecen `k = 2`, el método del codo sugiere `k = 4`. La elección final de `k` dependerá del equilibrio entre interpretabilidad, granularidad deseada y validación adicional sobre el negocio o contexto de análisis.\n"
      ],
      "metadata": {
        "id": "eohOv_Nebeyk"
      }
    },
    {
      "cell_type": "code",
      "source": [
        "#Seleccionamos numero de cluster y obtenemos el agrupamiento\n"
      ],
      "metadata": {
        "id": "ClVCuP3_J6--"
      },
      "execution_count": null,
      "outputs": []
    },
    {
      "cell_type": "code",
      "source": [
        "#Agregamos la información de los clusters a los datos originales\n"
      ],
      "metadata": {
        "id": "SPhg9nkXOL6i"
      },
      "execution_count": null,
      "outputs": []
    },
    {
      "cell_type": "code",
      "source": [
        "#Analizamos variables de interes\n",
        "#Ej: como se comporta lo que gasta un cliente vs sus ingresos\n",
        "plt.figure(figsize=(20, 6))\n",
        "sns.scatterplot(\n",
        "    data=df,\n",
        "    x='Spent',\n",
        "    y='Income',\n",
        "    hue='Cluster',\n",
        "    palette={0: 'darkcyan', 1: 'purple'},\n",
        "    alpha=0.7,\n",
        "    s=50\n",
        "\n",
        ")\n",
        "plt.title('Distribución de Gasto vs Ingreso por Cluster')\n",
        "plt.legend(title='Cluster')\n",
        "plt.show()"
      ],
      "metadata": {
        "id": "D624osgOOCFM"
      },
      "execution_count": null,
      "outputs": []
    },
    {
      "cell_type": "markdown",
      "source": [
        "### <font color=\"LightPink\"><b>Análisis del resultado de clustering</b></font>\n",
        "\n",
        "El gráfico muestra el resultado de una segmentación en **dos grupos** (`0` y `1`) utilizando las variables `Spent` (gasto) e `Income` (ingreso).\n",
        "\n",
        "- El **grupo 1** (color naranja) agrupa principalmente a los clientes con **bajo ingreso y bajo gasto**. Se observa una concentración clara en la parte inferior izquierda del gráfico.\n",
        "- El **grupo 0** (color azul) contiene clientes con **mayor ingreso** y una **mayor capacidad de gasto**, distribuidos de forma más dispersa a lo largo del plano.\n",
        "\n",
        "Esta segmentación sugiere que el algoritmo logró separar aceptablemnte a los clientes según su perfil económico.\n"
      ],
      "metadata": {
        "id": "CBXQz9_TcDJ4"
      }
    },
    {
      "cell_type": "code",
      "source": [
        "#Ej: cual es el nivel de aceptación de las promociones\n",
        "df['Total_promos']=df['AcceptedCmp1']+df['AcceptedCmp2']+df['AcceptedCmp3']+df['AcceptedCmp4']+df['AcceptedCmp5']\n",
        "\n",
        "plt.figure(figsize=(12,6))\n",
        "sns.countplot(df, x = 'Total_promos', hue='Cluster', palette={0: 'darkcyan', 1: 'purple'})\n",
        "plt.xlabel(\"Number of total accepted promotions\")\n",
        "plt.show()"
      ],
      "metadata": {
        "id": "1AytKVyiOm4v"
      },
      "execution_count": null,
      "outputs": []
    },
    {
      "cell_type": "code",
      "source": [
        "import matplotlib.pyplot as plt\n",
        "import seaborn as sns\n",
        "\n",
        "Personal = ['Kidhome', 'Teenhome', 'Age_on_2014', 'Children',\n",
        "            'Family_size', 'Is_parent', 'Education', 'Living_with']\n",
        "\n",
        "# Crear figura\n",
        "fig, axs = plt.subplots(2, 4, figsize=(20, 8))\n",
        "axs = axs.flatten()\n",
        "\n",
        "# Graficar cada par variable vs Spent\n",
        "for idx, var in enumerate(Personal):\n",
        "    ax = axs[idx]\n",
        "    sns.kdeplot(\n",
        "        data=df,\n",
        "        x=var,\n",
        "        y='Spent',\n",
        "        hue='Cluster',\n",
        "        fill=True,\n",
        "        common_norm=False,\n",
        "        alpha=0.6,\n",
        "        palette={0: 'darkcyan', 1: 'purple'},\n",
        "        ax=ax\n",
        "    )\n",
        "    ax.set_title(f'{var} vs Spent')\n",
        "\n",
        "plt.tight_layout()\n",
        "plt.show()"
      ],
      "metadata": {
        "id": "eNt2QcyUdqtl"
      },
      "execution_count": null,
      "outputs": []
    },
    {
      "cell_type": "markdown",
      "source": [
        "### <font color=\"LightPink\"><b>Relación entre variables demográficas y nivel de gasto</b></font>\n",
        "\n",
        "El análisis conjunto entre las variables demográficas y el nivel de gasto (`Spent`) revela diferencias consistentes entre los clusters:\n",
        "\n",
        "- El **cluster 0** (color verde) presenta una mayor concentración de gasto a lo largo de todas las variables, lo cual sugiere un perfil de consumidores con **mayor capacidad adquisitiva**.\n",
        "- El **cluster 1** (color violeta) muestra una distribución más restringida en los niveles de gasto, asociada generalmente a valores más bajos en variables como `Income`, `Age_on_2014` y `Family_size`.\n",
        "\n",
        "<br>\n",
        "\n",
        "Observaciones:\n",
        "\n",
        "- **Edad**: el cluster 0 agrupa personas mayores con mayor gasto; el cluster 1 incluye más jóvenes con menor gasto.\n",
        "- **Tamaño del hogar (`Family_size`, `Children`, `Kidhome`, `Teenhome`)**: El cluster 1 parece vinculado a hogares con más hijos, pero con menos gasto, lo que podría reflejar restricciones presupuestales.\n",
        "\n",
        "- **Condición parental (`Is_parent`)**: Las personas con hijos tienden a tener menor gasto en el cluster 1, mientras que en el cluster 0 se observa mayor gasto incluso en padres.\n",
        "\n",
        "- **Nivel educativo (`Education`)** y **estado civil/convivencia (`Living_with`)**: No hay diferencias extremas, pero el cluster 0 tiende a mostrar mayor dispersión en los niveles de gasto.\n",
        "\n",
        "\n",
        "En resumen, el perfil del cluster 0 refleja mayor capacidad de gasto y menor carga familiar.\n"
      ],
      "metadata": {
        "id": "g1hGdiuxeX-c"
      }
    }
  ]
}